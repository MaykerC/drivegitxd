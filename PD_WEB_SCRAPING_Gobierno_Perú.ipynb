{
  "cells": [
    {
      "cell_type": "markdown",
      "source": [
        "<center><h2><b><u>Scrapenado la Página del Gobierno del Perú</u></b></h2></center>"
      ],
      "metadata": {
        "id": "5tDLoIkJZTOu"
      },
      "id": "5tDLoIkJZTOu"
    },
    {
      "cell_type": "markdown",
      "source": [
        "Se quiere Scrapear la página web del gobierno del Perù y obtener el contenido de la segunda noticia. link: https://www.gob.pe/institucion/presidencia/noticias"
      ],
      "metadata": {
        "id": "b78HWivTZli0"
      },
      "id": "b78HWivTZli0"
    },
    {
      "cell_type": "markdown",
      "source": [
        "**Primero** Instalamos el paquete **request** (si se trabaja en google colab, no es necesario). Luego importar **requests**.  "
      ],
      "metadata": {
        "id": "8dxFqOWrZJgo"
      },
      "id": "8dxFqOWrZJgo"
    },
    {
      "cell_type": "code",
      "source": [
        "# !pip install request\n",
        "import requests"
      ],
      "metadata": {
        "id": "Ckk_ha8gZ-MB"
      },
      "id": "Ckk_ha8gZ-MB",
      "execution_count": 94,
      "outputs": []
    },
    {
      "cell_type": "markdown",
      "source": [
        "Ingresamos a la página del Gobierno de la cual se quiere extraer infomación (https://www.gob.mx/presidencia/es/archivo/articulos?idiom=es&order=DESC&page=). Se puede notar que tiene varias páginas. Para nuestro caso como se quiere la segunda noticia basta con indicar que es la primera página o solo trabajar con el link de la primera página, pero en caso se requiera posteriormente buscar otra noticia que se encuentre en otra página diferente a la 1, se ingresará el número de página.  "
      ],
      "metadata": {
        "id": "9luvul-4bICm"
      },
      "id": "9luvul-4bICm"
    },
    {
      "cell_type": "code",
      "execution_count": 95,
      "id": "5cdcfd4b",
      "metadata": {
        "id": "5cdcfd4b"
      },
      "outputs": [],
      "source": [
        "page = 1\n",
        "url_base = \"https://www.gob.pe/institucion/presidencia/noticias?filter%5Bterms%5D=&amp;filter%5Btype%5D=&amp;sheet=\"\n"
      ]
    },
    {
      "cell_type": "markdown",
      "source": [
        "Utilizamos **requests** para hacer una petición de la información:"
      ],
      "metadata": {
        "id": "agH-2IG0cnwC"
      },
      "id": "agH-2IG0cnwC"
    },
    {
      "cell_type": "code",
      "source": [
        "respuesta = requests.get(url_base + str(page)) #solicitamos respuesta de la url con el número de página. \n",
        "respuesta.text # nos está devolviendo html"
      ],
      "metadata": {
        "id": "OUPkqkMFc9v6"
      },
      "id": "OUPkqkMFc9v6",
      "execution_count": null,
      "outputs": []
    },
    {
      "cell_type": "markdown",
      "source": [
        "Importamos **BeautifulSoup** .Es usado para extraer datos de archivos HTML y XML."
      ],
      "metadata": {
        "id": "axRDWubWdjFz"
      },
      "id": "axRDWubWdjFz"
    },
    {
      "cell_type": "code",
      "source": [
        "from bs4 import BeautifulSoup # html que se quiere\n",
        "sopa=BeautifulSoup(respuesta.text)\n",
        "print(sopa.prettify())  #mejoramos la visualización del html"
      ],
      "metadata": {
        "id": "8PRnxmQZdK9Z"
      },
      "id": "8PRnxmQZdK9Z",
      "execution_count": null,
      "outputs": []
    },
    {
      "cell_type": "markdown",
      "source": [
        "Como el objetivo es scrapear la primera noticia, entonces esta nos debe direccionar al link asociado a la noticia en **leer más** (al dar clic nos lleva a la noticia).  Todos los links asociados a la noticia (al dar clic en \"leer más\") se encuentran en etiquetas **\"a\"** (anchors), con find indicamos en qué etiqueta queremos buscar (notese que en **class**: \"text-primary track-ga-click card__mock hover:no-underline\" están los link que nos direccionan a las noticias)."
      ],
      "metadata": {
        "id": "9xqynDkJgksf"
      },
      "id": "9xqynDkJgksf"
    },
    {
      "cell_type": "code",
      "source": [
        "anchors = sopa.find_all(\"a\",{\"class\":\"text-primary track-ga-click card__mock hover:no-underline\"})\n",
        "#anchors[0] # contiene el link de la primera noticia\n",
        "anchors[1] # contiene el link de la segunda noticia"
      ],
      "metadata": {
        "id": "0EegjtlvgsuZ"
      },
      "id": "0EegjtlvgsuZ",
      "execution_count": null,
      "outputs": []
    },
    {
      "cell_type": "markdown",
      "source": [
        "Trabajemos en un solo código para obtener todos los links y luego acceder a ellos según el número de noticia a la que se quiera acceder o se quiera scrapear:  "
      ],
      "metadata": {
        "id": "OUq9CTjXinYC"
      },
      "id": "OUq9CTjXinYC"
    },
    {
      "cell_type": "code",
      "execution_count": 127,
      "id": "f9ffbee1",
      "metadata": {
        "scrolled": true,
        "id": "f9ffbee1"
      },
      "outputs": [],
      "source": [
        "from bs4 import BeautifulSoup\n",
        "def obtiene_links(page):\n",
        "    response = requests.get(url_base + str(page)) #solicitamos respuesta de la url con el número de página.\n",
        "    sopa = BeautifulSoup(response.text) # mejoramos la visualización del html\n",
        "    anchors = [] # vector vacío (en cada anchors hay links)\n",
        "    if sopa is not None:\n",
        "        anchors = sopa.find_all(\"a\",{\"class\":\"text-primary track-ga-click card__mock hover:no-underline\"})\n",
        "    hrefs = [\"https://www.gob.pe\" + a[\"href\"] for a in anchors] # para acceder al dar clic, asociamos la página general + el link de referencia de la noticia\n",
        "    return hrefs"
      ]
    },
    {
      "cell_type": "code",
      "execution_count": null,
      "id": "08addea4",
      "metadata": {
        "id": "08addea4"
      },
      "outputs": [],
      "source": [
        "obtiene_links(1) # links de la pagina"
      ]
    },
    {
      "cell_type": "code",
      "execution_count": 129,
      "id": "3623f61d",
      "metadata": {
        "id": "3623f61d"
      },
      "outputs": [],
      "source": [
        "TODOS_los_links = []\n",
        "for pg in range(10):\n",
        "    TODOS_los_links.extend(obtiene_links(pg))"
      ]
    },
    {
      "cell_type": "code",
      "execution_count": 130,
      "id": "36edbe7b",
      "metadata": {
        "colab": {
          "base_uri": "https://localhost:8080/",
          "height": 55
        },
        "id": "36edbe7b",
        "outputId": "6ff29165-3c92-4318-a54e-306a9622c3cd"
      },
      "outputs": [
        {
          "output_type": "execute_result",
          "data": {
            "text/plain": [
              "'https://www.gob.pe/institucion/presidencia/noticias/667970-presidente-inauguro-nuevo-centro-materno-infantil-en-cieneguilla-y-afirmo-que-seguira-trabajando-por-las-poblaciones-de-zonas-alejadas'"
            ],
            "application/vnd.google.colaboratory.intrinsic+json": {
              "type": "string"
            }
          },
          "metadata": {},
          "execution_count": 130
        }
      ],
      "source": [
        "respuesta_articulo = requests.get(TODOS_los_links[1])\n",
        "TODOS_los_links[1]"
      ]
    },
    {
      "cell_type": "code",
      "execution_count": 131,
      "id": "2335a2c2",
      "metadata": {
        "scrolled": false,
        "colab": {
          "base_uri": "https://localhost:8080/"
        },
        "id": "2335a2c2",
        "outputId": "db89049d-1cd5-4b8a-cef5-604f70a1e2a0"
      },
      "outputs": [
        {
          "output_type": "stream",
          "name": "stdout",
          "text": [
            "Presidencia de la RepÃºblica del PerÃºPresidente inaugurÃ³ nuevo Centro Materno Infantil en Cieneguilla y afirmÃ³ que seguirÃ¡ trabajando por las poblaciones de zonas alejadasNota de PrensaAdemÃ¡s, el jefe de Estado entregÃ³ cinco ambulancias a la Diris Lima EsteFotos: PRENSASECRETARÃA DE COMUNICACIÃN ESTRATÃGICA Y PRENSA 9 de noviembre de 2022 - 11:59 a. m.\n",
            "Lima, 9 de noviembre del 2022.- El presidente de la RepÃºblica, Pedro Castillo Terrones, inaugurÃ³ esta maÃ±ana la ampliaciÃ³n del Centro Materno Infantil (CMI) Tambo Viejo, en el distrito de Cieneguilla, en donde afirmÃ³ que su gobierno seguirÃ¡ trabajando en su objetivo de cerrar las brechas sociales en las zonas alejadas del paÃ­s.Â âLos peruanos que viven en las zonas vulnerables tambiÃ©n tienen los mismos derechos que los peruanos que gozan de otros privilegios. En ese sentido, corresponde a este gobierno acercar el Estado a las poblaciones en todos los rincones del paÃ­sâ, enfatizÃ³ tras recorrer las instalaciones del nuevo CMI que beneficiarÃ¡ a 22 000 personas de escasos recursos.Â ManifestÃ³ que este cierre de brechas sociales debe tener un Ã©nfasis en los sectores de salud y educaciÃ³n, pues son derechos fundamentales que no han sido atendidos durante dÃ©cadas.Â En ese contexto, el jefe de Estado destacÃ³ que su gobierno avanza en elevar los niveles de infraestructura en los hospitales y establecimientos de salud de todo el territorio nacional.Â âFelicito que se estÃ© avanzando en descongestionar los grandes e histÃ³ricos hospitales del paÃ­s, sobre todo, los que estÃ¡n centralizados en la capital. Esto es importante porque la misma atenciÃ³n que se da en el corazÃ³n de Lima se tiene que dar en las zonas perifÃ©ricasâ, anotÃ³.Â SeÃ±alÃ³ que el PerÃº estÃ¡ saliendo de una etapa negra marcada por la muerte de miles de peruanos a consecuencia de la COVID-19, lo cual no debe repetirse nunca mÃ¡s. Para ello, subrayÃ³, el Estado tiene que actuar responsablemente frente a la poblaciÃ³n y trabajar en unidad a fin de fortalecer de manera sostenible nuestro sistema sanitario.Â âMe gustarÃ­a caminar junto con los voceros y con las bancadas y, por ello, los convoco desde este establecimiento de salud para seguir haciendo estas gestionesâ, expresÃ³.Â Cabe indicar que el nuevo CMI Tambo Viejo cuenta con nuevos consultorios como medicina, obstetricia, laboratorio e inmunizaciones, entre otros, lo cual permitirÃ¡ mejorar la calidad de vida de la poblaciÃ³n beneficiada, toda vez que se incrementarÃ¡ la cobertura de atenciÃ³n ambulatoria al 80%.Â AmbulanciasDe igual modo, el mandatario entregÃ³ cinco modernas ambulancias a la jurisdicciÃ³n de la DIRIS Lima Este, las mismas que serÃ¡n distribuidas en los establecimientos de salud: CMI San Fernando, CMI Miguel Grau, CMI Santa Anita, Hospital JosÃ© Agurto Tello de Chosica y el Hospital de HuaycÃ¡n.Â Esta entrega forma parte de la donaciÃ³n efectuada por el gobierno del JapÃ³n y permitirÃ¡ elevar la capacidad de respuesta de los hospitales y centros de salud de todo el paÃ­s.\n"
          ]
        }
      ],
      "source": [
        "requests.get(TODOS_los_links[1])\n",
        "sopa_articulo = BeautifulSoup(respuesta_articulo.text)\n",
        "contenido =sopa_articulo.find_all(\"div\",{\"col-md-8 page\"})\n",
        "print(contenido[0].text)"
      ]
    },
    {
      "cell_type": "code",
      "source": [
        "#def obtiene_informacion(link):\n",
        "#    respuesta_articulo = requests.get(link)\n",
        "#    sopa_articulo = BeautifulSoup(respuesta_articulo.text)\n",
        "#    contenido = sopa_articulo.find_all(\"div\", {\"col-md-8 page\"})\n",
        "#    titulo = contenido[0].text\n",
        "#    parrafos = [parrafo.text for parrafo in contenido[1].find_all(\"p\")]\n",
        "#    return({\"titulo\":titulo, \"parrafos\":parrafos})"
      ],
      "metadata": {
        "id": "BzFOIkV-rVgT"
      },
      "id": "BzFOIkV-rVgT",
      "execution_count": 90,
      "outputs": []
    }
  ],
  "metadata": {
    "kernelspec": {
      "display_name": "Python 3 (ipykernel)",
      "language": "python",
      "name": "python3"
    },
    "language_info": {
      "codemirror_mode": {
        "name": "ipython",
        "version": 3
      },
      "file_extension": ".py",
      "mimetype": "text/x-python",
      "name": "python",
      "nbconvert_exporter": "python",
      "pygments_lexer": "ipython3",
      "version": "3.9.7"
    },
    "colab": {
      "provenance": []
    }
  },
  "nbformat": 4,
  "nbformat_minor": 5
}