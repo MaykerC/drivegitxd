{
 "cells": [
  {
   "cell_type": "code",
   "execution_count": 7,
   "metadata": {},
   "outputs": [],
   "source": [
    "\n",
    "#importando librerias necesarias para realziar el trabajo requerido \n",
    "import pandas as pd\n",
    "import requests \n",
    "import re \n",
    "from bs4 import BeautifulSoup "
   ]
  },
  {
   "cell_type": "code",
   "execution_count": 33,
   "metadata": {},
   "outputs": [],
   "source": [
    "\n",
    "url = \"https://tesis.pucp.edu.pe/repositorio/discover\"\n",
    "\n",
    "if \"__main__\" == __name__:\n",
    "    page = requests.get(url)\n",
    "    soup = BeautifulSoup(page.content, \"html.parser\")\n",
    "\n",
    "    def has_data_search(tag):\n",
    "        return tag.has_attr(\"row ds-artifact-item \")\n",
    "\n",
    "    results = soup.find_all(has_data_search) \n",
    "\n",
    "    for job in results:\n",
    "        try:\n",
    "            titleElement = job.find(\"a\", attrs={\"data-automation\": \"jobTitle\"})\n",
    "            title = titleElement.get_text()\n",
    "            company = job.find(\"a\", attrs={\"data-automation\": \"jobCompany\"}).get_text()\n",
    "            joblink = \"https://tesis.pucp.edu.pe\" + titleElement[\"href\"]\n",
    "            salary = job.find(\"span\", attrs={\"data-automation\": \"jobSalary\"})\n",
    "            salary = salary.get_text() if salary else 'n/a'\n",
    "\n",
    "            job = \"Titulo: {}\\nEmpresa: {}\\nSalario: {}\\nLink: {}a\\n\"\n",
    "\n",
    "            job = job.format(title, company, salary, joblink)\n",
    "                  \n",
    "            print(job)\n",
    "        except Exception as e:\n",
    "            print(\"Exception: {}\".format(e))\n",
    "            pass"
   ]
  },
  {
   "cell_type": "markdown",
   "metadata": {},
   "source": []
  }
 ],
 "metadata": {
  "kernelspec": {
   "display_name": "base",
   "language": "python",
   "name": "python3"
  },
  "language_info": {
   "codemirror_mode": {
    "name": "ipython",
    "version": 3
   },
   "file_extension": ".py",
   "mimetype": "text/x-python",
   "name": "python",
   "nbconvert_exporter": "python",
   "pygments_lexer": "ipython3",
   "version": "3.9.13"
  },
  "orig_nbformat": 4,
  "vscode": {
   "interpreter": {
    "hash": "248a588a76b6706a21340fde56c27be1ec20c4c6adc023561a032c09e10eba1a"
   }
  }
 },
 "nbformat": 4,
 "nbformat_minor": 2
}
